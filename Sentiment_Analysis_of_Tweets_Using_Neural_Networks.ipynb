{
 "cells": [
  {
   "cell_type": "markdown",
   "id": "3af066da",
   "metadata": {},
   "source": [
    "# Sentiment Analysis of Tweets using Neural Networks \n",
    "\n",
    "This project aims to train a neural network to detect sentiment from tweets. A common problem in financial markets is to gauge the wider market's sentiment regarding a financial asset. One way to get insight into this, particularly in the cryptocurrency markets, is to train a neural network to detect sentiment from twitter data. This idea was the inspiration for this project. I will begin the project by cleaning the labelled twitter data I downloaded from Kaggle. Following this, I will train the neural network using the package tensorflow. Lastly I will evaluate it's performance on the test data.  "
   ]
  },
  {
   "cell_type": "markdown",
   "id": "30d86f87",
   "metadata": {},
   "source": [
    "## Dataset Description\n",
    "First load the data and look at the top rows. Check how many observations there are."
   ]
  },
  {
   "cell_type": "code",
   "execution_count": 458,
   "id": "967ab386",
   "metadata": {},
   "outputs": [],
   "source": [
    "import numpy as np \n",
    "import matplotlib.pyplot as plt \n",
    "import pandas as pd \n",
    "import random \n",
    "from IPython.display import Image"
   ]
  },
  {
   "cell_type": "code",
   "execution_count": 459,
   "id": "da05df54",
   "metadata": {},
   "outputs": [
    {
     "name": "stdout",
     "output_type": "stream",
     "text": [
      "There are 27481 rows of data.\n"
     ]
    },
    {
     "data": {
      "text/html": [
       "<div>\n",
       "<style scoped>\n",
       "    .dataframe tbody tr th:only-of-type {\n",
       "        vertical-align: middle;\n",
       "    }\n",
       "\n",
       "    .dataframe tbody tr th {\n",
       "        vertical-align: top;\n",
       "    }\n",
       "\n",
       "    .dataframe thead th {\n",
       "        text-align: right;\n",
       "    }\n",
       "</style>\n",
       "<table border=\"1\" class=\"dataframe\">\n",
       "  <thead>\n",
       "    <tr style=\"text-align: right;\">\n",
       "      <th></th>\n",
       "      <th>textID</th>\n",
       "      <th>text</th>\n",
       "      <th>selected_text</th>\n",
       "      <th>sentiment</th>\n",
       "    </tr>\n",
       "  </thead>\n",
       "  <tbody>\n",
       "    <tr>\n",
       "      <th>0</th>\n",
       "      <td>cb774db0d1</td>\n",
       "      <td>I`d have responded, if I were going</td>\n",
       "      <td>I`d have responded, if I were going</td>\n",
       "      <td>neutral</td>\n",
       "    </tr>\n",
       "    <tr>\n",
       "      <th>1</th>\n",
       "      <td>549e992a42</td>\n",
       "      <td>Sooo SAD I will miss you here in San Diego!!!</td>\n",
       "      <td>Sooo SAD</td>\n",
       "      <td>negative</td>\n",
       "    </tr>\n",
       "    <tr>\n",
       "      <th>2</th>\n",
       "      <td>088c60f138</td>\n",
       "      <td>my boss is bullying me...</td>\n",
       "      <td>bullying me</td>\n",
       "      <td>negative</td>\n",
       "    </tr>\n",
       "    <tr>\n",
       "      <th>3</th>\n",
       "      <td>9642c003ef</td>\n",
       "      <td>what interview! leave me alone</td>\n",
       "      <td>leave me alone</td>\n",
       "      <td>negative</td>\n",
       "    </tr>\n",
       "    <tr>\n",
       "      <th>4</th>\n",
       "      <td>358bd9e861</td>\n",
       "      <td>Sons of ****, why couldn`t they put them on t...</td>\n",
       "      <td>Sons of ****,</td>\n",
       "      <td>negative</td>\n",
       "    </tr>\n",
       "  </tbody>\n",
       "</table>\n",
       "</div>"
      ],
      "text/plain": [
       "       textID                                               text  \\\n",
       "0  cb774db0d1                I`d have responded, if I were going   \n",
       "1  549e992a42      Sooo SAD I will miss you here in San Diego!!!   \n",
       "2  088c60f138                          my boss is bullying me...   \n",
       "3  9642c003ef                     what interview! leave me alone   \n",
       "4  358bd9e861   Sons of ****, why couldn`t they put them on t...   \n",
       "\n",
       "                         selected_text sentiment  \n",
       "0  I`d have responded, if I were going   neutral  \n",
       "1                             Sooo SAD  negative  \n",
       "2                          bullying me  negative  \n",
       "3                       leave me alone  negative  \n",
       "4                        Sons of ****,  negative  "
      ]
     },
     "execution_count": 459,
     "metadata": {},
     "output_type": "execute_result"
    }
   ],
   "source": [
    "data = pd.read_csv('train.csv')  \n",
    "print(\"There are \" + str(len(data)) + \" rows of data.\")\n",
    "data.head()"
   ]
  },
  {
   "cell_type": "markdown",
   "id": "4a75b368",
   "metadata": {},
   "source": [
    "Check to see the counts of positive, negative and neutral."
   ]
  },
  {
   "cell_type": "code",
   "execution_count": 460,
   "id": "33098b9e",
   "metadata": {},
   "outputs": [
    {
     "data": {
      "image/png": "[encoded data removed]",
      "text/plain": [
       "<Figure size 504x504 with 1 Axes>"
      ]
     },
     "metadata": {},
     "output_type": "display_data"
    }
   ],
   "source": [
    "data['sentiment'].value_counts().plot(kind='pie',figsize = (7,7),title = 'Sentiment',ylabel = \"\")  \n",
    "plt.title('Sentiment')\n",
    "plt.show()"
   ]
  },
  {
   "cell_type": "markdown",
   "id": "4f4518b1",
   "metadata": {},
   "source": [
    "Sentiments are roughly even with slighly more as neutral. This seems like a reasonable distribution for sentiments for training.  \n",
    "## Data Cleaning\n",
    "### Handle NA Values and Data Types"
   ]
  },
  {
   "cell_type": "code",
   "execution_count": 461,
   "id": "a8fe73c9",
   "metadata": {},
   "outputs": [
    {
     "name": "stdout",
     "output_type": "stream",
     "text": [
      "True 2\n"
     ]
    }
   ],
   "source": [
    "print(data.isnull().values.any(),data.isnull().values.sum())"
   ]
  },
  {
   "cell_type": "markdown",
   "id": "6e54c397",
   "metadata": {},
   "source": [
    "As there are only a small number of null values I will just remove the rows containing them. I also ensure the column with selected_text is loaded correctly as a type string. "
   ]
  },
  {
   "cell_type": "code",
   "execution_count": 462,
   "id": "133cd83a",
   "metadata": {},
   "outputs": [
    {
     "data": {
      "text/html": [
       "<div>\n",
       "<style scoped>\n",
       "    .dataframe tbody tr th:only-of-type {\n",
       "        vertical-align: middle;\n",
       "    }\n",
       "\n",
       "    .dataframe tbody tr th {\n",
       "        vertical-align: top;\n",
       "    }\n",
       "\n",
       "    .dataframe thead th {\n",
       "        text-align: right;\n",
       "    }\n",
       "</style>\n",
       "<table border=\"1\" class=\"dataframe\">\n",
       "  <thead>\n",
       "    <tr style=\"text-align: right;\">\n",
       "      <th></th>\n",
       "      <th>textID</th>\n",
       "      <th>text</th>\n",
       "      <th>selected_text</th>\n",
       "      <th>sentiment</th>\n",
       "    </tr>\n",
       "  </thead>\n",
       "  <tbody>\n",
       "    <tr>\n",
       "      <th>0</th>\n",
       "      <td>cb774db0d1</td>\n",
       "      <td>I`d have responded, if I were going</td>\n",
       "      <td>I`d have responded, if I were going</td>\n",
       "      <td>neutral</td>\n",
       "    </tr>\n",
       "    <tr>\n",
       "      <th>1</th>\n",
       "      <td>549e992a42</td>\n",
       "      <td>Sooo SAD I will miss you here in San Diego!!!</td>\n",
       "      <td>Sooo SAD</td>\n",
       "      <td>negative</td>\n",
       "    </tr>\n",
       "    <tr>\n",
       "      <th>2</th>\n",
       "      <td>088c60f138</td>\n",
       "      <td>my boss is bullying me...</td>\n",
       "      <td>bullying me</td>\n",
       "      <td>negative</td>\n",
       "    </tr>\n",
       "    <tr>\n",
       "      <th>3</th>\n",
       "      <td>9642c003ef</td>\n",
       "      <td>what interview! leave me alone</td>\n",
       "      <td>leave me alone</td>\n",
       "      <td>negative</td>\n",
       "    </tr>\n",
       "    <tr>\n",
       "      <th>4</th>\n",
       "      <td>358bd9e861</td>\n",
       "      <td>Sons of ****, why couldn`t they put them on t...</td>\n",
       "      <td>Sons of ****,</td>\n",
       "      <td>negative</td>\n",
       "    </tr>\n",
       "    <tr>\n",
       "      <th>...</th>\n",
       "      <td>...</td>\n",
       "      <td>...</td>\n",
       "      <td>...</td>\n",
       "      <td>...</td>\n",
       "    </tr>\n",
       "    <tr>\n",
       "      <th>27476</th>\n",
       "      <td>4eac33d1c0</td>\n",
       "      <td>wish we could come see u on Denver  husband l...</td>\n",
       "      <td>d lost</td>\n",
       "      <td>negative</td>\n",
       "    </tr>\n",
       "    <tr>\n",
       "      <th>27477</th>\n",
       "      <td>4f4c4fc327</td>\n",
       "      <td>I`ve wondered about rake to.  The client has ...</td>\n",
       "      <td>, don`t force</td>\n",
       "      <td>negative</td>\n",
       "    </tr>\n",
       "    <tr>\n",
       "      <th>27478</th>\n",
       "      <td>f67aae2310</td>\n",
       "      <td>Yay good for both of you. Enjoy the break - y...</td>\n",
       "      <td>Yay good for both of you.</td>\n",
       "      <td>positive</td>\n",
       "    </tr>\n",
       "    <tr>\n",
       "      <th>27479</th>\n",
       "      <td>ed167662a5</td>\n",
       "      <td>But it was worth it  ****.</td>\n",
       "      <td>But it was worth it  ****.</td>\n",
       "      <td>positive</td>\n",
       "    </tr>\n",
       "    <tr>\n",
       "      <th>27480</th>\n",
       "      <td>6f7127d9d7</td>\n",
       "      <td>All this flirting going on - The ATG smiles...</td>\n",
       "      <td>All this flirting going on - The ATG smiles. Y...</td>\n",
       "      <td>neutral</td>\n",
       "    </tr>\n",
       "  </tbody>\n",
       "</table>\n",
       "<p>27480 rows × 4 columns</p>\n",
       "</div>"
      ],
      "text/plain": [
       "           textID                                               text  \\\n",
       "0      cb774db0d1                I`d have responded, if I were going   \n",
       "1      549e992a42      Sooo SAD I will miss you here in San Diego!!!   \n",
       "2      088c60f138                          my boss is bullying me...   \n",
       "3      9642c003ef                     what interview! leave me alone   \n",
       "4      358bd9e861   Sons of ****, why couldn`t they put them on t...   \n",
       "...           ...                                                ...   \n",
       "27476  4eac33d1c0   wish we could come see u on Denver  husband l...   \n",
       "27477  4f4c4fc327   I`ve wondered about rake to.  The client has ...   \n",
       "27478  f67aae2310   Yay good for both of you. Enjoy the break - y...   \n",
       "27479  ed167662a5                         But it was worth it  ****.   \n",
       "27480  6f7127d9d7     All this flirting going on - The ATG smiles...   \n",
       "\n",
       "                                           selected_text sentiment  \n",
       "0                    I`d have responded, if I were going   neutral  \n",
       "1                                               Sooo SAD  negative  \n",
       "2                                            bullying me  negative  \n",
       "3                                         leave me alone  negative  \n",
       "4                                          Sons of ****,  negative  \n",
       "...                                                  ...       ...  \n",
       "27476                                             d lost  negative  \n",
       "27477                                      , don`t force  negative  \n",
       "27478                          Yay good for both of you.  positive  \n",
       "27479                         But it was worth it  ****.  positive  \n",
       "27480  All this flirting going on - The ATG smiles. Y...   neutral  \n",
       "\n",
       "[27480 rows x 4 columns]"
      ]
     },
     "execution_count": 462,
     "metadata": {},
     "output_type": "execute_result"
    }
   ],
   "source": [
    "data = data.dropna()  \n",
    "data.reset_index  \n",
    "data.astype({\"selected_text\": str})"
   ]
  },
  {
   "cell_type": "markdown",
   "id": "6be9b6ea",
   "metadata": {},
   "source": [
    "### Process Labels\n",
    "For the neural network to be able to process our sentimet labels, I created a new column representing sentiment as an integer. The scheme is described below. \n",
    "- Positive = 2 \n",
    "- Neutral = 1 \n",
    "- Negative = 0 "
   ]
  },
  {
   "cell_type": "code",
   "execution_count": 463,
   "id": "3fe95008",
   "metadata": {},
   "outputs": [
    {
     "data": {
      "text/html": [
       "<div>\n",
       "<style scoped>\n",
       "    .dataframe tbody tr th:only-of-type {\n",
       "        vertical-align: middle;\n",
       "    }\n",
       "\n",
       "    .dataframe tbody tr th {\n",
       "        vertical-align: top;\n",
       "    }\n",
       "\n",
       "    .dataframe thead th {\n",
       "        text-align: right;\n",
       "    }\n",
       "</style>\n",
       "<table border=\"1\" class=\"dataframe\">\n",
       "  <thead>\n",
       "    <tr style=\"text-align: right;\">\n",
       "      <th></th>\n",
       "      <th>textID</th>\n",
       "      <th>text</th>\n",
       "      <th>selected_text</th>\n",
       "      <th>sentiment</th>\n",
       "    </tr>\n",
       "    <tr>\n",
       "      <th>sentiment_num</th>\n",
       "      <th></th>\n",
       "      <th></th>\n",
       "      <th></th>\n",
       "      <th></th>\n",
       "    </tr>\n",
       "  </thead>\n",
       "  <tbody>\n",
       "    <tr>\n",
       "      <th>0</th>\n",
       "      <td>7781</td>\n",
       "      <td>7781</td>\n",
       "      <td>7781</td>\n",
       "      <td>7781</td>\n",
       "    </tr>\n",
       "    <tr>\n",
       "      <th>1</th>\n",
       "      <td>11117</td>\n",
       "      <td>11117</td>\n",
       "      <td>11117</td>\n",
       "      <td>11117</td>\n",
       "    </tr>\n",
       "    <tr>\n",
       "      <th>2</th>\n",
       "      <td>8582</td>\n",
       "      <td>8582</td>\n",
       "      <td>8582</td>\n",
       "      <td>8582</td>\n",
       "    </tr>\n",
       "  </tbody>\n",
       "</table>\n",
       "</div>"
      ],
      "text/plain": [
       "               textID   text  selected_text  sentiment\n",
       "sentiment_num                                         \n",
       "0                7781   7781           7781       7781\n",
       "1               11117  11117          11117      11117\n",
       "2                8582   8582           8582       8582"
      ]
     },
     "execution_count": 463,
     "metadata": {},
     "output_type": "execute_result"
    }
   ],
   "source": [
    "data['sentiment_num'] = \"\"\n",
    "\n",
    "for index, row in data.iterrows():\n",
    "    if row['sentiment'] == 'positive': \n",
    "        row['sentiment_num'] = 2 \n",
    "    elif row['sentiment'] == 'negative': \n",
    "        row['sentiment_num'] = 0 \n",
    "    else: \n",
    "        row['sentiment_num'] = 1 \n",
    "data.groupby('sentiment_num').count()"
   ]
  },
  {
   "cell_type": "markdown",
   "id": "eb1d2448",
   "metadata": {},
   "source": [
    "### Split data into train and test set. \n",
    "I'm going to perform a 70/30 train/test split. Then using this split I seperate my training/testing sentences/labels out accordingly."
   ]
  },
  {
   "cell_type": "code",
   "execution_count": 464,
   "id": "1d0855e8",
   "metadata": {},
   "outputs": [],
   "source": [
    "import math as m\n",
    "\n",
    "training_size = m.floor(0.7 * len(data))\n",
    "\n",
    "training_sentences = np.array(data['selected_text'][0:training_size])\n",
    "testing_sentences = data['selected_text'][training_size:]\n",
    "training_labels = data['sentiment_num'][0:training_size]\n",
    "testing_labels = data['sentiment_num'][training_size:]"
   ]
  },
  {
   "cell_type": "markdown",
   "id": "ca3c28ab",
   "metadata": {},
   "source": [
    "## Tokenization and Word Embeddings \n",
    "\n",
    "In order for the neural network to gather meaning from the sentences, we need to convert the sentences to numeric values. At first it may seem to natural to create a numbering scheme for each character. For example take the word 'bear' and assign: \n",
    "- b -> 1\n",
    "- e -> 2 \n",
    "- a -> 3\n",
    "- r -> 4 \n",
    "However, this presents a problem as 'bare' has the same letters and hence the same numbers. It is therefore difficult to interpret sentiment just from the charcters in a string. \n",
    "\n",
    "The solution is to create an encoding scheme for the words to create 'tokens'. For example, encode 'I love my dog' as: \n",
    "- I -> 1\n",
    "- Love -> 2\n",
    "- My -> 3\n",
    "- Dog -> 4  \n",
    "Then if we take another sentence, for example 'I love my cat', we only need to encode the word cat. \n",
    "- I -> 1\n",
    "- Love -> 2\n",
    "- My -> 3\n",
    "- Cat -> 5  \n",
    "These sentences have been converted to sequences of numbers [1,2,3,4] and [1,2,3,5]. We can see similarity between these sentences and it is exactly what we would expect as both sentences are expressing love for their pet. \n",
    "\n",
    "The concept of embeddings takes this one step further. Embedding takes a word and turns into a vector. Similar words such as man and woman will have a siilar direction and be located close to each other. Likewise words that are dissimilar will have different directions and be located further apart. \n",
    "\n",
    "\n",
    "![title](word_embeddings_plot.png)\n",
    "Source: https://becominghuman.ai/nlp-serverless-deployment-of-word-embeddings-and-retrieving-most-similar-words-using-kmeans-aws-51f129297995 \n",
    "\n",
    "\n",
    "If we then sum these vectors we will get a new vector. This vector will define the overall direction of the words or the sentiment of the sentence. The neural network then learn the directions which represent positive,negative and neutral.\n",
    "\n",
    "To be able to handle processing sentences of different lengths, I 'pad' the sentences by appending zero values up to the length of the longest sentence. All of the above is executed in the following code."
   ]
  },
  {
   "cell_type": "markdown",
   "id": "8cd89b3e",
   "metadata": {},
   "source": [
    "Here I set the parameters for this processing."
   ]
  },
  {
   "cell_type": "code",
   "execution_count": 465,
   "id": "26587248",
   "metadata": {},
   "outputs": [],
   "source": [
    "vocab_size = 10000  # Keeps n most common words\n",
    "max_length = 100  # Fix the longest sentence to be a maximum of 100 tokens/words long.\n",
    "trunc_type='post' # Pad the sentences after the last token. \n",
    "padding_type='post' # Pad the sentences after the last token. \n",
    "oov_tok = \"<OOV>\" # Fill words not in the word index with <OOV> \"Out Of Vocabulary\""
   ]
  },
  {
   "cell_type": "markdown",
   "id": "d8c67db5",
   "metadata": {},
   "source": [
    "This block tokenizes the sentences,converts them to sequences and lastly pads them. It is important here to only tokenize the training sentences so that later we can accurately gauge how the neural network performs out of sample."
   ]
  },
  {
   "cell_type": "code",
   "execution_count": 466,
   "id": "9339889f",
   "metadata": {},
   "outputs": [],
   "source": [
    "from tensorflow.keras.preprocessing.text import Tokenizer \n",
    "from tensorflow.keras.preprocessing.sequence import pad_sequences \n",
    "\n",
    "\n",
    "tokenizer = Tokenizer(num_words=vocab_size, oov_token=\"<OOV>\") \n",
    "\n",
    "# Fit tokenizer only to training sentences\n",
    "tokenizer.fit_on_texts(training_sentences)\n",
    "\n",
    "\n",
    "training_sequences = tokenizer.texts_to_sequences(training_sentences)\n",
    "training_padded = pad_sequences(training_sequences, maxlen=max_length, padding=padding_type, truncating=trunc_type)\n",
    "\n",
    "testing_sequences = tokenizer.texts_to_sequences(testing_sentences)\n",
    "testing_padded = pad_sequences(testing_sequences, maxlen=max_length, padding=padding_type, truncating=trunc_type)"
   ]
  },
  {
   "cell_type": "markdown",
   "id": "c9172d01",
   "metadata": {},
   "source": [
    "Tensorflow takes numpy arrays with float values as inputs. Here I ensure the data is structered accordingly. "
   ]
  },
  {
   "cell_type": "code",
   "execution_count": 467,
   "id": "da38d8c2",
   "metadata": {},
   "outputs": [],
   "source": [
    "# Ensure data is stored as array with elements of type float\n",
    "training_padded = np.array(training_padded).astype(np.float32)\n",
    "training_labels = np.array(training_labels).astype(np.float32)\n",
    "testing_padded = np.array(testing_padded).astype(np.float32)\n",
    "testing_labels = np.array(testing_labels).astype(np.float32)  "
   ]
  },
  {
   "cell_type": "markdown",
   "id": "870dff67",
   "metadata": {},
   "source": [
    "## Neural Network  \n",
    "\n",
    "In this section I define the architecture of the neural network.  \n",
    "![title](NN_Flow_Chart1.png) \n",
    "- __Input Layer:__ The input layer has 100 input neurons as 100 was the max length chosen for the sentence sequences. \n",
    "- __Embedding Layer:__ This layer converts eahc token/word in these sequences to vectors. With each vector having 30 components. The choice for the number of components is somewhat arbitrary. 30 was chosen after experimenting through trial and error to achieve good accuracy in prediction.  \n",
    "- __Pooling Layer__: This layer adds up all the vectors outputted from the previous layer.\n",
    "- __Hidden Layer:__ This hidden layer contains 20 neurons. Similarly to before this number is somewhat arbitrary. More neurons means increased accuracy however there is a diminishing return. There is a trade off between accuracy and time to train the model. 20 seemed to be the smallest amount of neurons without losing significant accuracy in training. The activation function for this layer is the sigmoid function: $$ \\sigma = \\frac{1}{1+e^{-(\\omega x + b)}} $$\n",
    "- __Output Layer:__ There are 3 output neurons in this layer for each category of sentiment. Each neuron holds a probability of it being the correct layer. Naturally the neuron with the highest probability is taken to be the final output. As this is a multiclassification model I chose the activation fucntion for the output layer to be the Softmax function: $$ \\sigma (z)_i = \\frac{e^{z_i}}{\\sum_{j=1}^{N} e^{z_j}} $$ \n",
    "\n",
    "\n",
    "__Sparse Categorical Cross Entropy Loss Function__ \n",
    "As this is a multiclassification problem we need a loss function for that. The sparse in the title just refers to output being scalar values. The sparse categorical cross cntropy works exactly the same as the regular categorical cross entropy function. The function is defined below: $$ Loss = \\ - \\sum_{i=1}^{C} y_ilog\\hat{y_i} $$ \n",
    "- C = Output Size. \n",
    "- $\\hat{y_i}$ = i-th scalar value of the model output. \n",
    "- $y_i$ = corresponding target value.\n",
    "\n",
    "__Adam Optimization Function__  \n",
    "The 'Adam' optimization function is an adapted version of the stochastic gradient descent algorithm. Adam adapts the learning parameter rate by using the averages of both the first and second moments of the gradient. The algorithm calculates an exponential moving average of the gradient and the squared gradient. The key advantage for Adam is that it is faster than stochastic gradient descent. See the below for a comparison against other optimization algorithms.\n",
    "\n",
    "![title](adam_comparison.png)\n",
    "Source: https://machinelearningmastery.com/adam-optimization-algorithm-for-deep-learning/ \n",
    "\n",
    "## Fit the Model"
   ]
  },
  {
   "cell_type": "code",
   "execution_count": 480,
   "id": "9451a65d",
   "metadata": {},
   "outputs": [
    {
     "name": "stdout",
     "output_type": "stream",
     "text": [
      "Model: \"sequential_42\"\n",
      "_________________________________________________________________\n",
      " Layer (type)                Output Shape              Param #   \n",
      "=================================================================\n",
      " embedding_53 (Embedding)    (None, 100, 30)           300000    \n",
      "                                                                 \n",
      " global_average_pooling1d_50  (None, 30)               0         \n",
      "  (GlobalAveragePooling1D)                                       \n",
      "                                                                 \n",
      " dense_98 (Dense)            (None, 20)                620       \n",
      "                                                                 \n",
      " dense_99 (Dense)            (None, 3)                 63        \n",
      "                                                                 \n",
      "=================================================================\n",
      "Total params: 300,683\n",
      "Trainable params: 300,683\n",
      "Non-trainable params: 0\n",
      "_________________________________________________________________\n"
     ]
    }
   ],
   "source": [
    "import tensorflow as tf\n",
    "\n",
    "embedding_dim = 30\n",
    "\n",
    "model = tf.keras.Sequential([\n",
    "    tf.keras.layers.Embedding(vocab_size, embedding_dim, input_length=max_length),\n",
    "    tf.keras.layers.GlobalAveragePooling1D(),\n",
    "    tf.keras.layers.Dense(20, activation='sigmoid'),\n",
    "    tf.keras.layers.Dense(3, activation='softmax')\n",
    "]) \n",
    "model.compile(loss='sparse_categorical_crossentropy',optimizer='adam',metrics=['accuracy'])\n",
    "model.summary()"
   ]
  },
  {
   "cell_type": "markdown",
   "id": "5a411d63",
   "metadata": {},
   "source": [
    "Next we fit the model. To start we will trial 30 epochs and then evaluate the results. "
   ]
  },
  {
   "cell_type": "code",
   "execution_count": 481,
   "id": "ef1942c9",
   "metadata": {},
   "outputs": [
    {
     "name": "stdout",
     "output_type": "stream",
     "text": [
      "Epoch 1/30\n",
      "602/602 - 5s - loss: 1.0418 - accuracy: 0.4770 - val_loss: 0.9402 - val_accuracy: 0.6015 - 5s/epoch - 9ms/step\n",
      "Epoch 2/30\n",
      "602/602 - 3s - loss: 0.8795 - accuracy: 0.6028 - val_loss: 0.8367 - val_accuracy: 0.6340 - 3s/epoch - 5ms/step\n",
      "Epoch 3/30\n",
      "602/602 - 3s - loss: 0.8133 - accuracy: 0.6223 - val_loss: 0.7987 - val_accuracy: 0.6543 - 3s/epoch - 4ms/step\n",
      "Epoch 4/30\n",
      "602/602 - 3s - loss: 0.7665 - accuracy: 0.6512 - val_loss: 0.7572 - val_accuracy: 0.6644 - 3s/epoch - 4ms/step\n",
      "Epoch 5/30\n",
      "602/602 - 3s - loss: 0.7153 - accuracy: 0.6880 - val_loss: 0.7126 - val_accuracy: 0.7234 - 3s/epoch - 4ms/step\n",
      "Epoch 6/30\n",
      "602/602 - 4s - loss: 0.6567 - accuracy: 0.7525 - val_loss: 0.6609 - val_accuracy: 0.7741 - 4s/epoch - 7ms/step\n",
      "Epoch 7/30\n",
      "602/602 - 3s - loss: 0.5910 - accuracy: 0.8047 - val_loss: 0.6102 - val_accuracy: 0.8024 - 3s/epoch - 5ms/step\n",
      "Epoch 8/30\n",
      "602/602 - 3s - loss: 0.5294 - accuracy: 0.8299 - val_loss: 0.5683 - val_accuracy: 0.8167 - 3s/epoch - 4ms/step\n",
      "Epoch 9/30\n",
      "602/602 - 3s - loss: 0.4787 - accuracy: 0.8479 - val_loss: 0.5348 - val_accuracy: 0.8090 - 3s/epoch - 4ms/step\n",
      "Epoch 10/30\n",
      "602/602 - 3s - loss: 0.4392 - accuracy: 0.8595 - val_loss: 0.5089 - val_accuracy: 0.8256 - 3s/epoch - 5ms/step\n",
      "Epoch 11/30\n",
      "602/602 - 3s - loss: 0.4061 - accuracy: 0.8696 - val_loss: 0.4943 - val_accuracy: 0.8247 - 3s/epoch - 4ms/step\n",
      "Epoch 12/30\n",
      "602/602 - 3s - loss: 0.3788 - accuracy: 0.8786 - val_loss: 0.4816 - val_accuracy: 0.8328 - 3s/epoch - 4ms/step\n",
      "Epoch 13/30\n",
      "602/602 - 3s - loss: 0.3549 - accuracy: 0.8864 - val_loss: 0.4990 - val_accuracy: 0.8111 - 3s/epoch - 4ms/step\n",
      "Epoch 14/30\n",
      "602/602 - 3s - loss: 0.3343 - accuracy: 0.8919 - val_loss: 0.4703 - val_accuracy: 0.8375 - 3s/epoch - 4ms/step\n",
      "Epoch 15/30\n",
      "602/602 - 3s - loss: 0.3173 - accuracy: 0.8989 - val_loss: 0.4709 - val_accuracy: 0.8356 - 3s/epoch - 4ms/step\n",
      "Epoch 16/30\n",
      "602/602 - 3s - loss: 0.3008 - accuracy: 0.9020 - val_loss: 0.4746 - val_accuracy: 0.8270 - 3s/epoch - 4ms/step\n",
      "Epoch 17/30\n",
      "602/602 - 3s - loss: 0.2865 - accuracy: 0.9082 - val_loss: 0.4703 - val_accuracy: 0.8396 - 3s/epoch - 4ms/step\n",
      "Epoch 18/30\n",
      "602/602 - 3s - loss: 0.2729 - accuracy: 0.9133 - val_loss: 0.4763 - val_accuracy: 0.8365 - 3s/epoch - 4ms/step\n",
      "Epoch 19/30\n",
      "602/602 - 3s - loss: 0.2627 - accuracy: 0.9150 - val_loss: 0.4898 - val_accuracy: 0.8246 - 3s/epoch - 4ms/step\n",
      "Epoch 20/30\n",
      "602/602 - 3s - loss: 0.2521 - accuracy: 0.9195 - val_loss: 0.4872 - val_accuracy: 0.8430 - 3s/epoch - 4ms/step\n",
      "Epoch 21/30\n",
      "602/602 - 4s - loss: 0.2416 - accuracy: 0.9235 - val_loss: 0.4920 - val_accuracy: 0.8318 - 4s/epoch - 7ms/step\n",
      "Epoch 22/30\n",
      "602/602 - 3s - loss: 0.2339 - accuracy: 0.9266 - val_loss: 0.4945 - val_accuracy: 0.8406 - 3s/epoch - 5ms/step\n",
      "Epoch 23/30\n",
      "602/602 - 3s - loss: 0.2258 - accuracy: 0.9287 - val_loss: 0.5027 - val_accuracy: 0.8384 - 3s/epoch - 5ms/step\n",
      "Epoch 24/30\n",
      "602/602 - 3s - loss: 0.2189 - accuracy: 0.9302 - val_loss: 0.5109 - val_accuracy: 0.8411 - 3s/epoch - 5ms/step\n",
      "Epoch 25/30\n",
      "602/602 - 3s - loss: 0.2124 - accuracy: 0.9329 - val_loss: 0.5354 - val_accuracy: 0.8188 - 3s/epoch - 5ms/step\n",
      "Epoch 26/30\n",
      "602/602 - 3s - loss: 0.2060 - accuracy: 0.9342 - val_loss: 0.5240 - val_accuracy: 0.8370 - 3s/epoch - 4ms/step\n",
      "Epoch 27/30\n",
      "602/602 - 3s - loss: 0.2009 - accuracy: 0.9360 - val_loss: 0.5425 - val_accuracy: 0.8191 - 3s/epoch - 4ms/step\n",
      "Epoch 28/30\n",
      "602/602 - 3s - loss: 0.1946 - accuracy: 0.9386 - val_loss: 0.5454 - val_accuracy: 0.8311 - 3s/epoch - 5ms/step\n",
      "Epoch 29/30\n",
      "602/602 - 3s - loss: 0.1910 - accuracy: 0.9382 - val_loss: 0.5516 - val_accuracy: 0.8328 - 3s/epoch - 4ms/step\n",
      "Epoch 30/30\n",
      "602/602 - 3s - loss: 0.1869 - accuracy: 0.9413 - val_loss: 0.5564 - val_accuracy: 0.8342 - 3s/epoch - 4ms/step\n"
     ]
    }
   ],
   "source": [
    "num_epochs = 30\n",
    "history = model.fit(training_padded, training_labels, epochs=num_epochs, validation_data=(testing_padded, testing_labels), verbose=2,callbacks=[tensorboard_callback])"
   ]
  },
  {
   "cell_type": "code",
   "execution_count": 474,
   "id": "a79a54c3",
   "metadata": {},
   "outputs": [
    {
     "data": {
      "image/png": "[encoded data removed]",
      "text/plain": [
       "<Figure size 720x576 with 1 Axes>"
      ]
     },
     "metadata": {
      "needs_background": "light"
     },
     "output_type": "display_data"
    }
   ],
   "source": [
    "plt.plot(history.history['accuracy'])\n",
    "plt.plot(history.history['val_accuracy'])\n",
    "plt.xlabel(\"Epochs\")\n",
    "plt.ylabel('Accuracy')\n",
    "plt.legend(['Train Accuracy', 'Test Accuracy'])\n",
    "plt.show()"
   ]
  },
  {
   "cell_type": "markdown",
   "id": "80f1236a",
   "metadata": {},
   "source": [
    "Based on the above plot, after approximately 7 epochs we begin to model the nuances of the training set. After this point we do not gain any additional accuracy in the testing set. For those reasons I will retrain the model with 7 epochs for final validation to avoid overfitting."
   ]
  },
  {
   "cell_type": "code",
   "execution_count": 475,
   "id": "aaf8c4e1",
   "metadata": {},
   "outputs": [
    {
     "name": "stdout",
     "output_type": "stream",
     "text": [
      "Epoch 1/7\n",
      "602/602 - 5s - loss: 1.0289 - accuracy: 0.4799 - val_loss: 0.8934 - val_accuracy: 0.5987 - 5s/epoch - 9ms/step\n",
      "Epoch 2/7\n",
      "602/602 - 3s - loss: 0.8531 - accuracy: 0.6013 - val_loss: 0.8286 - val_accuracy: 0.6098 - 3s/epoch - 5ms/step\n",
      "Epoch 3/7\n",
      "602/602 - 3s - loss: 0.7969 - accuracy: 0.6330 - val_loss: 0.7818 - val_accuracy: 0.6367 - 3s/epoch - 4ms/step\n",
      "Epoch 4/7\n",
      "602/602 - 3s - loss: 0.7396 - accuracy: 0.6811 - val_loss: 0.7324 - val_accuracy: 0.7221 - 3s/epoch - 4ms/step\n",
      "Epoch 5/7\n",
      "602/602 - 3s - loss: 0.6654 - accuracy: 0.7557 - val_loss: 0.6632 - val_accuracy: 0.7869 - 3s/epoch - 4ms/step\n",
      "Epoch 6/7\n",
      "602/602 - 3s - loss: 0.5796 - accuracy: 0.8123 - val_loss: 0.5950 - val_accuracy: 0.8026 - 3s/epoch - 4ms/step\n",
      "Epoch 7/7\n",
      "602/602 - 3s - loss: 0.5045 - accuracy: 0.8378 - val_loss: 0.5461 - val_accuracy: 0.8193 - 3s/epoch - 4ms/step\n"
     ]
    },
    {
     "data": {
      "text/plain": [
       "<keras.callbacks.History at 0x7fdc1ca6f040>"
      ]
     },
     "execution_count": 475,
     "metadata": {},
     "output_type": "execute_result"
    }
   ],
   "source": [
    "model = tf.keras.Sequential([\n",
    "    tf.keras.layers.Embedding(vocab_size, embedding_dim, input_length=max_length),\n",
    "    tf.keras.layers.GlobalAveragePooling1D(),\n",
    "    tf.keras.layers.Dense(60, activation='sigmoid'),\n",
    "    tf.keras.layers.Dense(3, activation='softmax')\n",
    "])  \n",
    "\n",
    "#### REMEMBER SECTION ON OPTIMZER\n",
    "model.compile(loss='sparse_categorical_crossentropy',optimizer='adam',metrics=['accuracy'])\n",
    "model.fit(training_padded, training_labels, epochs=7, validation_data=(testing_padded, testing_labels), verbose=2,callbacks=[tensorboard_callback])"
   ]
  },
  {
   "cell_type": "markdown",
   "id": "c5cc0592",
   "metadata": {},
   "source": [
    "### Results"
   ]
  },
  {
   "cell_type": "code",
   "execution_count": 476,
   "id": "e80b3b3c",
   "metadata": {},
   "outputs": [],
   "source": [
    "from sklearn.metrics import confusion_matrix \n",
    "predictions = model.predict(testing_padded)\n",
    "sentiment_pred = [np.argmax(predictions[x]) for x in range(len(testing_padded))]"
   ]
  },
  {
   "cell_type": "code",
   "execution_count": 477,
   "id": "5011dd96",
   "metadata": {},
   "outputs": [
    {
     "name": "stdout",
     "output_type": "stream",
     "text": [
      "81.93\n"
     ]
    },
    {
     "data": {
      "image/png": "[encoded data removed]",
      "text/plain": [
       "<Figure size 720x576 with 2 Axes>"
      ]
     },
     "metadata": {
      "needs_background": "light"
     },
     "output_type": "display_data"
    }
   ],
   "source": [
    "cf_matrix = confusion_matrix(sentiment_pred,testing_labels) \n",
    " \n",
    "correct = np.trace(cf_matrix) \n",
    "percent_correct = round((correct/len(testing_labels))*100,2)\n",
    "print(percent_correct)    \n",
    "\n",
    "import seaborn as sns \n",
    "from matplotlib import rcParams\n",
    "\n",
    "# figure size in inches\n",
    "rcParams['figure.figsize'] = 10,8\n",
    "x_labels = ['Negative','Neutral','Positive']\n",
    "y_labels = ['Positive','Neutral','Negative']\n",
    "ax = sns.heatmap(cf_matrix, annot=True, cmap='Blues',fmt='g',xticklabels=x_labels,yticklabels=y_labels)\n",
    "\n",
    "ax.set_title('Test Confusion Matrix: ' + str(percent_correct) + '% Accuracy\\n\\n')\n",
    "ax.set_xlabel('\\nPredicted Values')\n",
    "ax.set_ylabel('Actual Values ')\n",
    "\n",
    "\n",
    "\n",
    "## Display the visualization of the Confusion Matrix.\n",
    "plt.show()"
   ]
  },
  {
   "cell_type": "markdown",
   "id": "7b16648f",
   "metadata": {},
   "source": [
    "## Conclusions \n",
    "The model was able to predict sentiment from tweets with nearly 82% accuracy. In my view, for a relatively simple neural network, this is really impressive. It would be interesting to get alot more data, add more layers to the model and retrain to see if this percent could get even higher.  "
   ]
  }
 ],
 "metadata": {
  "kernelspec": {
   "display_name": "Python 3 (ipykernel)",
   "language": "python",
   "name": "python3"
  },
  "language_info": {
   "codemirror_mode": {
    "name": "ipython",
    "version": 3
   },
   "file_extension": ".py",
   "mimetype": "text/x-python",
   "name": "python",
   "nbconvert_exporter": "python",
   "pygments_lexer": "ipython3",
   "version": "3.9.7"
  }
 },
 "nbformat": 4,
 "nbformat_minor": 5
}
